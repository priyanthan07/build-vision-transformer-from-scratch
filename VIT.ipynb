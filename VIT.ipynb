{
 "cells": [
  {
   "cell_type": "code",
   "execution_count": 2,
   "metadata": {},
   "outputs": [],
   "source": [
    "import torch\n",
    "from torch import nn\n",
    "from dataclasses import dataclass\n",
    "import pandas as pd\n",
    "from torch import optim\n",
    "from torch.utils.data import DataLoader, Dataset\n",
    "from torchvision import transforms\n",
    "from sklearn.model_selection import train_test_split\n",
    "import numpy as np\n",
    "import numpy\n",
    "import timeit\n",
    "import random\n",
    "from tqdm import tqdm\n",
    "import matplotlib.pyplot as plt\n",
    "\n",
    "%matplotlib inline "
   ]
  },
  {
   "cell_type": "code",
   "execution_count": 3,
   "metadata": {},
   "outputs": [],
   "source": [
    "@dataclass\n",
    "class VitConfig:\n",
    "    random_seed: int = 42\n",
    "    batch_size: int = 512\n",
    "    epochs: int = 1\n",
    "    learning_rate: float = 1e-4\n",
    "    num_classes: int = 10\n",
    "    patch_size: int = 4\n",
    "    image_size: int = 28\n",
    "    input_channels: int = 1\n",
    "    num_heads: int = 8\n",
    "    dropout: float = 0.001\n",
    "    hidden_dim: int = 768\n",
    "    adam_weight_decay:int = 0\n",
    "    adam_betas: tuple = (0.9, 0.999)\n",
    "    activation: str = \"gelu\"\n",
    "    num_encoders: int = 4\n",
    "    embd_dim: int = (patch_size ** 2) * input_channels   # 16\n",
    "    num_patches: int = (image_size // patch_size) ** 2   # 49\n",
    "    device: str = \"cuda\" if torch.cuda.is_available() else \"cpu\""
   ]
  },
  {
   "cell_type": "code",
   "execution_count": 5,
   "metadata": {},
   "outputs": [],
   "source": [
    "config = VitConfig\n",
    "\n",
    "random.seed(config.random_seed)\n",
    "numpy.random.seed(config.random_seed)\n",
    "torch.manual_seed(config.random_seed)\n",
    "torch.cuda.manual_seed(config.random_seed)\n",
    "torch.cuda.manual_seed_all(config.random_seed)\n",
    "torch.backends.cudnn.deterministic = True\n",
    "torch.backends.cudnn.benchmark = False\n"
   ]
  },
  {
   "cell_type": "code",
   "execution_count": 6,
   "metadata": {},
   "outputs": [],
   "source": [
    "class PatchEmbedding(nn.Module):\n",
    "    def __init__(self, config : VitConfig):\n",
    "        super().__init__()\n",
    "        \n",
    "        self.config = config\n",
    "        self.patcher = nn.Sequential(\n",
    "            nn.Conv2d(\n",
    "                in_channels=config.input_channels,\n",
    "                out_channels=config.embd_dim,\n",
    "                kernel_size=config.patch_size,\n",
    "                stride=config.patch_size\n",
    "            ),\n",
    "            nn.Flatten(2)\n",
    "        )\n",
    "        \n",
    "        self.cls_token = nn.Parameter(torch.randn(size=(1, config.input_channels, config.embd_dim)), requires_grad=True)\n",
    "        self.positional_embeddings = nn.Parameter(torch.randn(size=(1, config.num_patches+1, config.embd_dim)), requires_grad=True)\n",
    "        self.dropout = nn.Dropout(p=config.dropout)\n",
    "        \n",
    "    def forward(self, x):\n",
    "        cls_token = self.cls_token.expand(x.shape[0], -1, -1)\n",
    "        \n",
    "        x = self.patcher(x).permute(0, 2, 1)\n",
    "        x = torch.cat([cls_token, x], dim=1)\n",
    "        x = self.positional_embeddings + x\n",
    "        x = self.dropout(x)\n",
    "        return x"
   ]
  },
  {
   "cell_type": "code",
   "execution_count": 7,
   "metadata": {},
   "outputs": [],
   "source": [
    "class ViT(nn.Module):\n",
    "    def __init__(self, config: VitConfig):\n",
    "        super().__init__()\n",
    "         \n",
    "        self.config = config\n",
    "        self.embedding = PatchEmbedding(VitConfig)\n",
    "        \n",
    "        encoder_layer = nn.TransformerEncoderLayer(d_model=config.embd_dim, nhead=config.num_heads, dropout=config.dropout, activation=config.activation, batch_first=True, norm_first=True)\n",
    "        self.encoder_blocks = nn.TransformerEncoder(encoder_layer, num_layers=config.num_encoders)\n",
    "        \n",
    "        self.mlp_head = nn.Sequential(\n",
    "            nn.LayerNorm(normalized_shape=config.embd_dim),\n",
    "            nn.Linear(in_features=config.embd_dim, out_features=config.num_classes)\n",
    "        )\n",
    "        \n",
    "    def forward(self, x):\n",
    "        x = self.embedding(x)\n",
    "        x = self.encoder_blocks(x)\n",
    "        x = self.mlp_head(x[:,0,:])   # only take CLS token (zero-token)\n",
    "        return x"
   ]
  },
  {
   "cell_type": "code",
   "execution_count": 8,
   "metadata": {},
   "outputs": [
    {
     "name": "stderr",
     "output_type": "stream",
     "text": [
      "c:\\anaconda\\envs\\VIT_Venv\\Lib\\site-packages\\torch\\nn\\modules\\transformer.py:385: UserWarning: enable_nested_tensor is True, but self.use_nested_tensor is False because encoder_layer.norm_first was True\n",
      "  warnings.warn(\n"
     ]
    },
    {
     "name": "stdout",
     "output_type": "stream",
     "text": [
      "torch.Size([512, 10])\n"
     ]
    }
   ],
   "source": [
    "config = VitConfig\n",
    "embd = ViT(VitConfig).to(config.device)\n",
    "x = torch.randn(512, 1, 28, 28).to(config.device)\n",
    "print(embd(x).shape)\n"
   ]
  },
  {
   "cell_type": "markdown",
   "metadata": {},
   "source": [
    "## dataset"
   ]
  },
  {
   "cell_type": "code",
   "execution_count": 8,
   "metadata": {},
   "outputs": [],
   "source": [
    "train_df = pd.read_csv(\"digit-recognizer-data/train.csv\")\n",
    "test_df = pd.read_csv(\"digit-recognizer-data/test.csv\")\n",
    "submission_df = pd.read_csv(\"digit-recognizer-data/sample_submission.csv\")"
   ]
  },
  {
   "cell_type": "code",
   "execution_count": 148,
   "metadata": {},
   "outputs": [
    {
     "data": {
      "text/plain": [
       "((37800, 785), (4200, 785))"
      ]
     },
     "execution_count": 148,
     "metadata": {},
     "output_type": "execute_result"
    }
   ],
   "source": [
    "train_df, val_df = train_test_split(train_df, test_size=0.1, random_state=config.random_seed, shuffle=True)\n",
    "train_df.shape, val_df.shape"
   ]
  },
  {
   "cell_type": "code",
   "execution_count": 149,
   "metadata": {},
   "outputs": [],
   "source": [
    "class MNISTTrainDataset(Dataset):\n",
    "    def __init__(self, images, labels, indices):\n",
    "        self.images = images\n",
    "        self.labels = labels\n",
    "        self.indices = indices\n",
    "        \n",
    "        self.transform = transforms.Compose([\n",
    "            transforms.ToPILImage(),\n",
    "            transforms.RandomRotation(15),\n",
    "            transforms.ToTensor(),\n",
    "            transforms.Normalize(\n",
    "                mean=[0.5],\n",
    "                std=[0.5]\n",
    "            )\n",
    "        ])\n",
    "        \n",
    "    def __len__(self):\n",
    "        return len(self.images)\n",
    "    \n",
    "    def __getitem__(self, index):\n",
    "        image = self.images[index].reshape((28, 28)).astype(np.uint8)\n",
    "        label = self.labels[index]\n",
    "        index = self.indices[index]\n",
    "        image = self.transform(image)\n",
    "        return {\n",
    "            \"image\" : image,\n",
    "            \"label\" : label,\n",
    "            \"index\" : index\n",
    "        }\n",
    "        \n",
    "class MNISTValDataset(Dataset):\n",
    "    def __init__(self, images, labels, indices):\n",
    "        self.images = images\n",
    "        self.labels = labels\n",
    "        self.indices = indices\n",
    "        \n",
    "        self.transform = transforms.Compose([\n",
    "            transforms.ToTensor(),\n",
    "            transforms.Normalize(\n",
    "                mean=[0.5],\n",
    "                std=[0.5]\n",
    "            )\n",
    "        ])\n",
    "        \n",
    "    def __len__(self):\n",
    "        return len(self.images)\n",
    "    \n",
    "    def __getitem__(self, index):\n",
    "        image = self.images[index].reshape((28, 28)).astype(np.uint8)\n",
    "        label = self.labels[index]\n",
    "        index = self.indices[index]\n",
    "        image = self.transform(image)\n",
    "        return {\n",
    "            \"image\" : image,\n",
    "            \"label\" : label,\n",
    "            \"index\" : index\n",
    "        }\n",
    "        \n",
    "class MNISTTestDataset(Dataset):\n",
    "    def __init__(self, images, indices):\n",
    "        self.images = images\n",
    "        self.indices = indices\n",
    "        \n",
    "        self.transform = transforms.Compose([\n",
    "            transforms.ToTensor(),\n",
    "            transforms.Normalize(\n",
    "                mean=[0.5],\n",
    "                std=[0.5]\n",
    "            )\n",
    "        ])\n",
    "        \n",
    "    def __len__(self):\n",
    "        return len(self.images)\n",
    "    \n",
    "    def __getitem__(self, index):\n",
    "        image = self.images[index].reshape((28, 28)).astype(np.uint8)\n",
    "        index = self.indices[index]\n",
    "        image = self.transform(image)\n",
    "        return {\n",
    "            \"image\" : image,\n",
    "            \"index\" : index\n",
    "        }"
   ]
  },
  {
   "cell_type": "code",
   "execution_count": 150,
   "metadata": {},
   "outputs": [
    {
     "name": "stdout",
     "output_type": "stream",
     "text": [
      "37800\n",
      "------------------------------\n",
      "4200\n",
      "------------------------------\n",
      "28000\n",
      "------------------------------\n"
     ]
    },
    {
     "data": {
      "text/plain": [
       "<Figure size 640x480 with 0 Axes>"
      ]
     },
     "metadata": {},
     "output_type": "display_data"
    },
    {
     "data": {
      "image/png": "[encoded data removed]",
      "text/plain": [
       "<Figure size 640x480 with 3 Axes>"
      ]
     },
     "metadata": {},
     "output_type": "display_data"
    }
   ],
   "source": [
    "plt.figure()\n",
    "f, axarr = plt.subplots(1, 3)\n",
    "\n",
    "train_dataset = MNISTTrainDataset(train_df.iloc[:, 1:].values.astype(np.uint8), train_df.iloc[:, 0].values, train_df.index.values)\n",
    "print(len(train_df))\n",
    "axarr[0].imshow(train_dataset[0][\"image\"].squeeze(), cmap=\"gray\")\n",
    "axarr[0].set_title(\"Train Image\")\n",
    "print(\"-\" * 30)\n",
    "\n",
    "val_dataset = MNISTTrainDataset(val_df.iloc[:, 1:].values.astype(np.uint8), val_df.iloc[:, 0].values, val_df.index.values)\n",
    "print(len(val_dataset))\n",
    "axarr[1].imshow(val_dataset[0][\"image\"].squeeze(), cmap=\"gray\")\n",
    "axarr[1].set_title(\"val Image\")\n",
    "print(\"-\" * 30)\n",
    "\n",
    "test_dataset = MNISTTestDataset(test_df.values.astype(np.uint8), test_df.index.values)\n",
    "print(len(test_dataset))\n",
    "axarr[2].imshow(test_dataset[0][\"image\"].squeeze(), cmap=\"gray\")\n",
    "axarr[2].set_title(\"Train Image\")\n",
    "print(\"-\" * 30)\n"
   ]
  },
  {
   "cell_type": "code",
   "execution_count": 151,
   "metadata": {},
   "outputs": [],
   "source": [
    "train_dataloader = DataLoader(\n",
    "                            dataset=train_dataset,\n",
    "                            batch_size=config.batch_size,\n",
    "                            shuffle=True\n",
    "                        )\n",
    "\n",
    "val_dataloader = DataLoader(\n",
    "                            dataset=val_dataset,\n",
    "                            batch_size=config.batch_size,\n",
    "                            shuffle=True\n",
    "                        )\n",
    "\n",
    "test_dataloader = DataLoader(\n",
    "                            dataset=test_dataset,\n",
    "                            batch_size=config.batch_size,\n",
    "                            shuffle=False\n",
    "                        )"
   ]
  },
  {
   "cell_type": "code",
   "execution_count": 9,
   "metadata": {},
   "outputs": [],
   "source": [
    "model = ViT(VitConfig)"
   ]
  },
  {
   "cell_type": "markdown",
   "metadata": {},
   "source": [
    "### Training"
   ]
  },
  {
   "cell_type": "code",
   "execution_count": 153,
   "metadata": {},
   "outputs": [
    {
     "name": "stderr",
     "output_type": "stream",
     "text": [
      "training: 100%|██████████| 74/74 [03:43<00:00,  3.02s/it]\n",
      "validating: 100%|██████████| 9/9 [00:05<00:00,  1.53it/s]\n"
     ]
    },
    {
     "name": "stdout",
     "output_type": "stream",
     "text": [
      "------------------------------\n",
      "Train loss epoch 1: 2.2559\n",
      "Val loss epoch 1: 2.1041\n"
     ]
    },
    {
     "name": "stderr",
     "output_type": "stream",
     "text": [
      "epochs: 100%|██████████| 1/1 [03:49<00:00, 229.58s/it]"
     ]
    },
    {
     "name": "stdout",
     "output_type": "stream",
     "text": [
      "Train Accuracy epoch 1: 0.1579\n",
      "Val Accuracy epoch 1: 0.2514\n",
      "Training Time: 229.58s\n"
     ]
    },
    {
     "name": "stderr",
     "output_type": "stream",
     "text": [
      "\n"
     ]
    }
   ],
   "source": [
    "criterion = nn.CrossEntropyLoss()\n",
    "optimizer = optim.Adam(model.parameters(), betas=config.adam_betas, lr=config.learning_rate, weight_decay=config.adam_weight_decay)\n",
    "\n",
    "start = timeit.default_timer()\n",
    "\n",
    "for epoch in tqdm(range(config.epochs), position=0, leave=True, desc=\"epochs\"):\n",
    "    model.train()\n",
    "    \n",
    "    train_labels = []\n",
    "    train_preds = []\n",
    "    train_running_loss = 0\n",
    "    \n",
    "    for idx, image in enumerate(tqdm(train_dataloader, position=0, leave=True, desc=\"training\")):\n",
    "        img = image[\"image\"].float().to(config.device)\n",
    "        label = image[\"label\"].type(torch.uint8).to(config.device)\n",
    "        y_pred = model(img)\n",
    "        y_pred_label = torch.argmax(y_pred, dim=1)\n",
    "\n",
    "        train_labels.extend(label.cpu().detach())\n",
    "        train_preds.extend(y_pred_label.cpu().detach())\n",
    "        \n",
    "        loss = criterion(y_pred, label)\n",
    "        \n",
    "        optimizer.zero_grad()\n",
    "        loss.backward()\n",
    "        optimizer.step()\n",
    "        \n",
    "        train_running_loss += loss.item()\n",
    "        \n",
    "    train_loss = train_running_loss / (idx + 1)\n",
    "    \n",
    "    model.eval()\n",
    "    val_labels = []\n",
    "    val_preds = []\n",
    "    val_running_loss = 0\n",
    "    \n",
    "    with torch.no_grad():\n",
    "        for idx, image in enumerate(tqdm(val_dataloader, position=0, leave=True, desc=\"validating\")):\n",
    "            img = image[\"image\"].float().to(config.device)\n",
    "            label = image[\"label\"].type(torch.uint8).to(config.device)\n",
    "            y_pred = model(img)\n",
    "            y_pred_label = torch.argmax(y_pred, dim=1)\n",
    "            \n",
    "            val_labels.extend(label.cpu().detach())\n",
    "            val_preds.extend(y_pred_label.cpu().detach())\n",
    "            \n",
    "            loss = criterion(y_pred, label)\n",
    "            val_running_loss += loss.item()\n",
    "            \n",
    "    val_loss = val_running_loss/ (idx + 1)\n",
    "    \n",
    "    print(\"-\"*30)\n",
    "    print(f\"Train loss epoch {epoch + 1}: {train_loss:.4f}\")\n",
    "    print(f\"Val loss epoch {epoch + 1}: {val_loss:.4f}\")\n",
    "    print(f\"Train Accuracy epoch {epoch + 1}: {sum(1 for x, y in zip(train_preds, train_labels) if x==y)/len(train_labels):.4f}\")     \n",
    "    print(f\"Val Accuracy epoch {epoch + 1}: {sum(1 for x, y in zip(val_preds, val_labels) if x==y)/len(val_labels):.4f}\")     \n",
    "    \n",
    "stop = timeit.default_timer()\n",
    "print(f\"Training Time: {stop-start:.2f}s\")"
   ]
  },
  {
   "cell_type": "code",
   "execution_count": 154,
   "metadata": {},
   "outputs": [],
   "source": [
    "torch.cuda.empty_cache()"
   ]
  },
  {
   "cell_type": "code",
   "execution_count": 155,
   "metadata": {},
   "outputs": [
    {
     "name": "stderr",
     "output_type": "stream",
     "text": [
      "Testing: 100%|██████████| 55/55 [00:38<00:00,  1.41it/s]\n"
     ]
    }
   ],
   "source": [
    "labels = []\n",
    "ids = []\n",
    "imgs = []\n",
    "model.eval()\n",
    "\n",
    "with torch.no_grad():\n",
    "    for idx, image in enumerate(tqdm(test_dataloader, position=0, leave=True, desc=\"Testing\")):\n",
    "        img = image[\"image\"].to(config.device)\n",
    "        ids.extend([int(i)+1 for i in image[\"index\"]])\n",
    "        \n",
    "        preds = model(img)\n",
    "        \n",
    "        imgs.extend(img.cpu().detach())\n",
    "        labels.extend([int(i) for i in torch.argmax(preds, dim=1)])"
   ]
  },
  {
   "cell_type": "code",
   "execution_count": 156,
   "metadata": {},
   "outputs": [
    {
     "data": {
      "text/plain": [
       "<Figure size 640x480 with 0 Axes>"
      ]
     },
     "metadata": {},
     "output_type": "display_data"
    },
    {
     "data": {
      "image/png": "[encoded data removed]",
      "text/plain": [
       "<Figure size 640x480 with 6 Axes>"
      ]
     },
     "metadata": {},
     "output_type": "display_data"
    }
   ],
   "source": [
    "plt.figure()\n",
    "f, axarr = plt.subplots(2, 3)\n",
    "counter = 0\n",
    "for i in range(2):\n",
    "    for j in range(3):\n",
    "        axarr[i][j].imshow(imgs[counter].squeeze(), cmap=\"gray\")\n",
    "        axarr[i][j].set_title(f\"Predicted {labels[counter]}\")\n",
    "        counter += 1"
   ]
  },
  {
   "cell_type": "code",
   "execution_count": 157,
   "metadata": {},
   "outputs": [
    {
     "data": {
      "text/html": [
       "<div>\n",
       "<style scoped>\n",
       "    .dataframe tbody tr th:only-of-type {\n",
       "        vertical-align: middle;\n",
       "    }\n",
       "\n",
       "    .dataframe tbody tr th {\n",
       "        vertical-align: top;\n",
       "    }\n",
       "\n",
       "    .dataframe thead th {\n",
       "        text-align: right;\n",
       "    }\n",
       "</style>\n",
       "<table border=\"1\" class=\"dataframe\">\n",
       "  <thead>\n",
       "    <tr style=\"text-align: right;\">\n",
       "      <th></th>\n",
       "      <th>ImageId</th>\n",
       "      <th>Label</th>\n",
       "    </tr>\n",
       "  </thead>\n",
       "  <tbody>\n",
       "    <tr>\n",
       "      <th>0</th>\n",
       "      <td>1</td>\n",
       "      <td>0</td>\n",
       "    </tr>\n",
       "    <tr>\n",
       "      <th>1</th>\n",
       "      <td>2</td>\n",
       "      <td>0</td>\n",
       "    </tr>\n",
       "    <tr>\n",
       "      <th>2</th>\n",
       "      <td>3</td>\n",
       "      <td>1</td>\n",
       "    </tr>\n",
       "    <tr>\n",
       "      <th>3</th>\n",
       "      <td>4</td>\n",
       "      <td>1</td>\n",
       "    </tr>\n",
       "    <tr>\n",
       "      <th>4</th>\n",
       "      <td>5</td>\n",
       "      <td>7</td>\n",
       "    </tr>\n",
       "  </tbody>\n",
       "</table>\n",
       "</div>"
      ],
      "text/plain": [
       "   ImageId  Label\n",
       "0        1      0\n",
       "1        2      0\n",
       "2        3      1\n",
       "3        4      1\n",
       "4        5      7"
      ]
     },
     "execution_count": 157,
     "metadata": {},
     "output_type": "execute_result"
    }
   ],
   "source": [
    "\n",
    "submission_df = pd.DataFrame(list(zip(ids, labels)),\n",
    "               columns =[\"ImageId\", \"Label\"])\n",
    "submission_df.to_csv(\"submission.csv\", index=False)\n",
    "submission_df.head()"
   ]
  },
  {
   "cell_type": "code",
   "execution_count": 1,
   "metadata": {},
   "outputs": [],
   "source": [
    "from torchinfo import summary"
   ]
  },
  {
   "cell_type": "code",
   "execution_count": 12,
   "metadata": {},
   "outputs": [
    {
     "data": {
      "text/plain": [
       "=======================================================================================================================================\n",
       "Layer (type (var_name))                                 Input Shape          Output Shape         Param #              Trainable\n",
       "=======================================================================================================================================\n",
       "ViT (ViT)                                               [32, 1, 28, 28]      [32, 10]             --                   True\n",
       "├─PatchEmbedding (embedding)                            [32, 1, 28, 28]      [32, 50, 16]         816                  True\n",
       "│    └─Sequential (patcher)                             [32, 1, 28, 28]      [32, 16, 49]         --                   True\n",
       "│    │    └─Conv2d (0)                                  [32, 1, 28, 28]      [32, 16, 7, 7]       272                  True\n",
       "│    │    └─Flatten (1)                                 [32, 16, 7, 7]       [32, 16, 49]         --                   --\n",
       "│    └─Dropout (dropout)                                [32, 50, 16]         [32, 50, 16]         --                   --\n",
       "├─TransformerEncoder (encoder_blocks)                   [32, 50, 16]         [32, 50, 16]         --                   True\n",
       "│    └─ModuleList (layers)                              --                   --                   --                   True\n",
       "│    │    └─TransformerEncoderLayer (0)                 [32, 50, 16]         [32, 50, 16]         68,752               True\n",
       "│    │    └─TransformerEncoderLayer (1)                 [32, 50, 16]         [32, 50, 16]         68,752               True\n",
       "│    │    └─TransformerEncoderLayer (2)                 [32, 50, 16]         [32, 50, 16]         68,752               True\n",
       "│    │    └─TransformerEncoderLayer (3)                 [32, 50, 16]         [32, 50, 16]         68,752               True\n",
       "├─Sequential (mlp_head)                                 [32, 16]             [32, 10]             --                   True\n",
       "│    └─LayerNorm (0)                                    [32, 16]             [32, 16]             32                   True\n",
       "│    └─Linear (1)                                       [32, 16]             [32, 10]             170                  True\n",
       "=======================================================================================================================================\n",
       "Total params: 276,298\n",
       "Trainable params: 276,298\n",
       "Non-trainable params: 0\n",
       "Total mult-adds (Units.MEGABYTES): 9.09\n",
       "=======================================================================================================================================\n",
       "Input size (MB): 0.10\n",
       "Forward/backward pass size (MB): 107.52\n",
       "Params size (MB): 1.08\n",
       "Estimated Total Size (MB): 108.71\n",
       "======================================================================================================================================="
      ]
     },
     "execution_count": 12,
     "metadata": {},
     "output_type": "execute_result"
    }
   ],
   "source": [
    "summary(model=model, \n",
    "        input_size=(32, 1, 28, 28), \n",
    "        col_names= [\"input_size\", \"output_size\", \"num_params\", \"trainable\"],\n",
    "        col_width=20,\n",
    "        row_settings= [\"var_names\"]\n",
    "    )"
   ]
  },
  {
   "cell_type": "code",
   "execution_count": null,
   "metadata": {},
   "outputs": [],
   "source": []
  }
 ],
 "metadata": {
  "kernelspec": {
   "display_name": "VIT_Venv",
   "language": "python",
   "name": "python3"
  },
  "language_info": {
   "codemirror_mode": {
    "name": "ipython",
    "version": 3
   },
   "file_extension": ".py",
   "mimetype": "text/x-python",
   "name": "python",
   "nbconvert_exporter": "python",
   "pygments_lexer": "ipython3",
   "version": "3.12.9"
  }
 },
 "nbformat": 4,
 "nbformat_minor": 2
}
